{
 "cells": [
  {
   "cell_type": "markdown",
   "metadata": {},
   "source": [
    "# Lunar Gateway Link Budget"
   ]
  },
  {
   "cell_type": "code",
   "execution_count": 1,
   "metadata": {
    "scrolled": true
   },
   "outputs": [],
   "source": [
    "%matplotlib notebook\n",
    "%load_ext autoreload\n",
    "%autoreload 2"
   ]
  },
  {
   "cell_type": "code",
   "execution_count": 2,
   "metadata": {
    "scrolled": true
   },
   "outputs": [
    {
     "ename": "ModuleNotFoundError",
     "evalue": "No module named 'itur'",
     "output_type": "error",
     "traceback": [
      "\u001b[0;31m---------------------------------------------------------------------------\u001b[0m",
      "\u001b[0;31mModuleNotFoundError\u001b[0m                       Traceback (most recent call last)",
      "\u001b[0;32m<ipython-input-2-9971278c2b6f>\u001b[0m in \u001b[0;36m<module>\u001b[0;34m\u001b[0m\n\u001b[1;32m      3\u001b[0m \u001b[0;32mimport\u001b[0m \u001b[0mmatplotlib\u001b[0m\u001b[0;34m.\u001b[0m\u001b[0mpyplot\u001b[0m \u001b[0;32mas\u001b[0m \u001b[0mplt\u001b[0m\u001b[0;34m\u001b[0m\u001b[0;34m\u001b[0m\u001b[0m\n\u001b[1;32m      4\u001b[0m \u001b[0;32mimport\u001b[0m \u001b[0mpylink\u001b[0m\u001b[0;34m\u001b[0m\u001b[0;34m\u001b[0m\u001b[0m\n\u001b[0;32m----> 5\u001b[0;31m \u001b[0;32mimport\u001b[0m \u001b[0mSystemDefinition\u001b[0m\u001b[0;34m\u001b[0m\u001b[0;34m\u001b[0m\u001b[0m\n\u001b[0m\u001b[1;32m      6\u001b[0m \u001b[0;32mfrom\u001b[0m \u001b[0mutils\u001b[0m \u001b[0;32mimport\u001b[0m \u001b[0mLoader\u001b[0m\u001b[0;34m\u001b[0m\u001b[0;34m\u001b[0m\u001b[0m\n\u001b[1;32m      7\u001b[0m \u001b[0;32mimport\u001b[0m \u001b[0mpickle\u001b[0m\u001b[0;34m\u001b[0m\u001b[0;34m\u001b[0m\u001b[0m\n",
      "\u001b[0;32m/Volumes/work/payload-dmt/link-budget/SystemDefinition.py\u001b[0m in \u001b[0;36m<module>\u001b[0;34m\u001b[0m\n\u001b[1;32m      7\u001b[0m \u001b[0;32mimport\u001b[0m \u001b[0mscipy\u001b[0m\u001b[0;34m.\u001b[0m\u001b[0mconstants\u001b[0m\u001b[0;34m\u001b[0m\u001b[0;34m\u001b[0m\u001b[0m\n\u001b[1;32m      8\u001b[0m \u001b[0;32mimport\u001b[0m \u001b[0mrandom\u001b[0m\u001b[0;34m\u001b[0m\u001b[0;34m\u001b[0m\u001b[0m\n\u001b[0;32m----> 9\u001b[0;31m \u001b[0;32mimport\u001b[0m \u001b[0mitur\u001b[0m\u001b[0;34m\u001b[0m\u001b[0;34m\u001b[0m\u001b[0m\n\u001b[0m\u001b[1;32m     10\u001b[0m \u001b[0;34m\u001b[0m\u001b[0m\n\u001b[1;32m     11\u001b[0m \u001b[0;32mimport\u001b[0m \u001b[0mpylink\u001b[0m\u001b[0;34m\u001b[0m\u001b[0;34m\u001b[0m\u001b[0m\n",
      "\u001b[0;31mModuleNotFoundError\u001b[0m: No module named 'itur'"
     ]
    }
   ],
   "source": [
    "import os\n",
    "import numpy as np\n",
    "import matplotlib.pyplot as plt\n",
    "import pylink\n",
    "#pip3 install pylink-satcom\n",
    "#pip3 install itur\n",
    "import SystemDefinition\n",
    "from utils import Loader\n",
    "import pickle\n",
    "\n",
    "import warnings\n",
    "warnings.filterwarnings('ignore') # this prevents a warning that comes from the ITU library - need to check this"
   ]
  },
  {
   "cell_type": "markdown",
   "metadata": {},
   "source": [
    "## Lunar Gateway Amateur Radio Transponder\n",
    "\n",
    "The upcoming Lunar Gateway will be hosting an amateur radio transponder.  The following analysis examines the space to earth link.\n",
    "\n",
    "The aim is to determine the dimensioning of the system to deliver the expected system performance.  The size of the spacecraft antenna is fixed by the need for $ \\approx 40 ^{\\circ} $ of beamwidth which gives $ \\approx 10~dB $ gain at $ 10 ~ GHz $.\n",
    "\n",
    "We will examine what transmit power is required to close the link in this configuration as well as the achievable datarates using the DVB-S2X standard.\n",
    "\n",
    "Finally with a chosen transmit power a Monte-Carlo simulation is performed to gain an insight into the statistical properties of the link."
   ]
  },
  {
   "cell_type": "markdown",
   "metadata": {},
   "source": [
    "### Import the configuration files"
   ]
  },
  {
   "cell_type": "code",
   "execution_count": 3,
   "metadata": {
    "scrolled": true
   },
   "outputs": [
    {
     "ename": "NameError",
     "evalue": "name 'Loader' is not defined",
     "output_type": "error",
     "traceback": [
      "\u001b[0;31m---------------------------------------------------------------------------\u001b[0m",
      "\u001b[0;31mNameError\u001b[0m                                 Traceback (most recent call last)",
      "\u001b[0;32m<ipython-input-3-8c5c6db141e0>\u001b[0m in \u001b[0;36m<module>\u001b[0;34m\u001b[0m\n\u001b[0;32m----> 1\u001b[0;31m \u001b[0msatellite_configuration\u001b[0m \u001b[0;34m=\u001b[0m \u001b[0mLoader\u001b[0m\u001b[0;34m.\u001b[0m\u001b[0mload_configuration\u001b[0m\u001b[0;34m(\u001b[0m\u001b[0;34m'configs/satellite-lunar-SDMG-Work-Session.yaml'\u001b[0m\u001b[0;34m)\u001b[0m\u001b[0;34m\u001b[0m\u001b[0;34m\u001b[0m\u001b[0m\n\u001b[0m\u001b[1;32m      2\u001b[0m \u001b[0mchannel_configuration\u001b[0m \u001b[0;34m=\u001b[0m \u001b[0mLoader\u001b[0m\u001b[0;34m.\u001b[0m\u001b[0mload_configuration\u001b[0m\u001b[0;34m(\u001b[0m\u001b[0;34m'configs/channel-lunar-SDMG-Work-Session.yaml'\u001b[0m\u001b[0;34m)\u001b[0m\u001b[0;34m\u001b[0m\u001b[0;34m\u001b[0m\u001b[0m\n\u001b[1;32m      3\u001b[0m \u001b[0mgroundstation_configuration\u001b[0m \u001b[0;34m=\u001b[0m \u001b[0mLoader\u001b[0m\u001b[0;34m.\u001b[0m\u001b[0mload_configuration\u001b[0m\u001b[0;34m(\u001b[0m\u001b[0;34m'configs/groundstation-tvdish.yaml'\u001b[0m\u001b[0;34m)\u001b[0m\u001b[0;34m\u001b[0m\u001b[0;34m\u001b[0m\u001b[0m\n",
      "\u001b[0;31mNameError\u001b[0m: name 'Loader' is not defined"
     ]
    }
   ],
   "source": [
    "satellite_configuration = Loader.load_configuration('configs/satellite-lunar-SDMG-Work-Session.yaml')\n",
    "channel_configuration = Loader.load_configuration('configs/channel-lunar-SDMG-Work-Session.yaml')\n",
    "groundstation_configuration = Loader.load_configuration('configs/groundstation-tvdish.yaml') "
   ]
  },
  {
   "cell_type": "markdown",
   "metadata": {},
   "source": [
    "# Find Datarate over Receive Dish Diameter\n",
    "\n",
    "Here we will vary the diameter of the receive dish and find the link margin and achievable datarates.\n",
    "\n",
    "For this simulation the symbol rate is 8000 ksps for 10000 kHz of occupied bandwidth."
   ]
  },
  {
   "cell_type": "code",
   "execution_count": 2,
   "metadata": {
    "scrolled": false
   },
   "outputs": [
    {
     "ename": "NameError",
     "evalue": "name 'np' is not defined",
     "output_type": "error",
     "traceback": [
      "\u001b[0;31m---------------------------------------------------------------------------\u001b[0m",
      "\u001b[0;31mNameError\u001b[0m                                 Traceback (most recent call last)",
      "\u001b[0;32m<ipython-input-2-b3ec365a9a50>\u001b[0m in \u001b[0;36m<module>\u001b[0;34m\u001b[0m\n\u001b[1;32m      1\u001b[0m \u001b[0;31m# define the parameters to vary\u001b[0m\u001b[0;34m\u001b[0m\u001b[0;34m\u001b[0m\u001b[0;34m\u001b[0m\u001b[0m\n\u001b[0;32m----> 2\u001b[0;31m \u001b[0mrx_antenna_diameter\u001b[0m \u001b[0;34m=\u001b[0m \u001b[0mnp\u001b[0m\u001b[0;34m.\u001b[0m\u001b[0mlinspace\u001b[0m\u001b[0;34m(\u001b[0m\u001b[0;36m0.5\u001b[0m\u001b[0;34m,\u001b[0m \u001b[0;36m6\u001b[0m\u001b[0;34m,\u001b[0m \u001b[0;36m30\u001b[0m\u001b[0;34m)\u001b[0m\u001b[0;34m\u001b[0m\u001b[0;34m\u001b[0m\u001b[0m\n\u001b[0m\u001b[1;32m      3\u001b[0m \u001b[0mtx_power\u001b[0m \u001b[0;34m=\u001b[0m \u001b[0mnp\u001b[0m\u001b[0;34m.\u001b[0m\u001b[0mlinspace\u001b[0m\u001b[0;34m(\u001b[0m\u001b[0;36m9.0\u001b[0m\u001b[0;34m,\u001b[0m \u001b[0;36m40.0\u001b[0m\u001b[0;34m,\u001b[0m \u001b[0;36m6\u001b[0m\u001b[0;34m)\u001b[0m\u001b[0;34m\u001b[0m\u001b[0;34m\u001b[0m\u001b[0m\n\u001b[1;32m      4\u001b[0m \u001b[0;34m\u001b[0m\u001b[0m\n\u001b[1;32m      5\u001b[0m \u001b[0;31m# collect these parameters\u001b[0m\u001b[0;34m\u001b[0m\u001b[0;34m\u001b[0m\u001b[0;34m\u001b[0m\u001b[0m\n",
      "\u001b[0;31mNameError\u001b[0m: name 'np' is not defined"
     ]
    }
   ],
   "source": [
    "# define the parameters to vary\n",
    "rx_antenna_diameter = np.linspace(0.5, 6, 30)\n",
    "tx_power = np.linspace(9.0, 40.0, 6)\n",
    "\n",
    "# collect these parameters\n",
    "rx_power = np.zeros((len(rx_antenna_diameter), len(tx_power)))\n",
    "link_margin = np.zeros((len(rx_antenna_diameter), len(tx_power)))\n",
    "datarate = np.zeros((len(rx_antenna_diameter), len(tx_power)))\n",
    "\n",
    "# loop through each PA power\n",
    "for j in range(len(tx_power)):\n",
    "\n",
    "    # set the new PA power\n",
    "    satellite_configuration['nominal']['tx']['pa']['power'] = tx_power[j]\n",
    "    \n",
    "    for i in range(len(rx_antenna_diameter)):\n",
    "        \n",
    "        # set the new Rx antenna diameter\n",
    "        rx_antenna_aperture = np.pi * (rx_antenna_diameter[i]/2)**2\n",
    "        groundstation_configuration['nominal']['rx']['antenna']['aperture'] = rx_antenna_aperture\n",
    "        \n",
    "        # solve the system\n",
    "        system = SystemDefinition.SystemDefinition( satellite_configuration,\n",
    "                                                    groundstation_configuration,\n",
    "                                                    channel_configuration,\n",
    "                                                    warn=False)\n",
    "        # find the performance parameters\n",
    "        rx_power[i][j], link_margin[i][j], datarate[i][j] = system.link_metrics()"
   ]
  },
  {
   "cell_type": "markdown",
   "metadata": {},
   "source": [
    "### Plot the link margin"
   ]
  },
  {
   "cell_type": "code",
   "execution_count": 3,
   "metadata": {
    "scrolled": false
   },
   "outputs": [
    {
     "ename": "NameError",
     "evalue": "name 'plt' is not defined",
     "output_type": "error",
     "traceback": [
      "\u001b[0;31m---------------------------------------------------------------------------\u001b[0m",
      "\u001b[0;31mNameError\u001b[0m                                 Traceback (most recent call last)",
      "\u001b[0;32m<ipython-input-3-506e6f67623f>\u001b[0m in \u001b[0;36m<module>\u001b[0;34m\u001b[0m\n\u001b[0;32m----> 1\u001b[0;31m \u001b[0mplt\u001b[0m\u001b[0;34m.\u001b[0m\u001b[0mfigure\u001b[0m\u001b[0;34m(\u001b[0m\u001b[0;34m)\u001b[0m\u001b[0;34m\u001b[0m\u001b[0;34m\u001b[0m\u001b[0m\n\u001b[0m\u001b[1;32m      2\u001b[0m \u001b[0;32mfor\u001b[0m \u001b[0mi\u001b[0m \u001b[0;32min\u001b[0m \u001b[0mrange\u001b[0m\u001b[0;34m(\u001b[0m\u001b[0mlen\u001b[0m\u001b[0;34m(\u001b[0m\u001b[0mtx_power\u001b[0m\u001b[0;34m)\u001b[0m\u001b[0;34m)\u001b[0m\u001b[0;34m:\u001b[0m\u001b[0;34m\u001b[0m\u001b[0;34m\u001b[0m\u001b[0m\n\u001b[1;32m      3\u001b[0m     \u001b[0mplt\u001b[0m\u001b[0;34m.\u001b[0m\u001b[0mplot\u001b[0m\u001b[0;34m(\u001b[0m\u001b[0mrx_antenna_diameter\u001b[0m\u001b[0;34m,\u001b[0m \u001b[0mlink_margin\u001b[0m\u001b[0;34m[\u001b[0m\u001b[0;34m:\u001b[0m\u001b[0;34m,\u001b[0m\u001b[0mi\u001b[0m\u001b[0;34m]\u001b[0m\u001b[0;34m)\u001b[0m\u001b[0;34m\u001b[0m\u001b[0;34m\u001b[0m\u001b[0m\n\u001b[1;32m      4\u001b[0m \u001b[0;34m\u001b[0m\u001b[0m\n\u001b[1;32m      5\u001b[0m \u001b[0;31m# plot broken link\u001b[0m\u001b[0;34m\u001b[0m\u001b[0;34m\u001b[0m\u001b[0;34m\u001b[0m\u001b[0m\n",
      "\u001b[0;31mNameError\u001b[0m: name 'plt' is not defined"
     ]
    }
   ],
   "source": [
    "plt.figure()\n",
    "for i in range(len(tx_power)):\n",
    "    plt.plot(rx_antenna_diameter, link_margin[:,i])\n",
    "\n",
    "# plot broken link\n",
    "min_value = min(link_margin.flatten())\n",
    "max_value = max(link_margin.flatten())\n",
    "plt.fill_between([-1.2*rx_antenna_diameter[0], 1.2*rx_antenna_diameter[-1]], [0,0], 2*min_value, facecolor=\"red\", alpha=0.1)\n",
    "plt.xlim([rx_antenna_diameter[0], rx_antenna_diameter[-1]])\n",
    "plt.ylim([min_value, max_value*1.2])\n",
    "\n",
    "# label\n",
    "plt.legend([('Tx Power = %d dBW'%_) for _ in tx_power])\n",
    "plt.xlabel('Antenna Diameter (m)')\n",
    "plt.ylabel('Link Margin (dB)')\n",
    "plt.title('Link Margin')\n",
    "plt.grid()\n",
    "plt.show()"
   ]
  },
  {
   "cell_type": "markdown",
   "metadata": {},
   "source": [
    "### Plot the achievable datarates"
   ]
  },
  {
   "cell_type": "code",
   "execution_count": 4,
   "metadata": {},
   "outputs": [
    {
     "ename": "NameError",
     "evalue": "name 'plt' is not defined",
     "output_type": "error",
     "traceback": [
      "\u001b[0;31m---------------------------------------------------------------------------\u001b[0m",
      "\u001b[0;31mNameError\u001b[0m                                 Traceback (most recent call last)",
      "\u001b[0;32m<ipython-input-4-7daed83d7845>\u001b[0m in \u001b[0;36m<module>\u001b[0;34m\u001b[0m\n\u001b[0;32m----> 1\u001b[0;31m \u001b[0mplt\u001b[0m\u001b[0;34m.\u001b[0m\u001b[0mfigure\u001b[0m\u001b[0;34m(\u001b[0m\u001b[0;34m)\u001b[0m\u001b[0;34m\u001b[0m\u001b[0;34m\u001b[0m\u001b[0m\n\u001b[0m\u001b[1;32m      2\u001b[0m \u001b[0;32mfor\u001b[0m \u001b[0mi\u001b[0m \u001b[0;32min\u001b[0m \u001b[0mrange\u001b[0m\u001b[0;34m(\u001b[0m\u001b[0mlen\u001b[0m\u001b[0;34m(\u001b[0m\u001b[0mtx_power\u001b[0m\u001b[0;34m)\u001b[0m\u001b[0;34m)\u001b[0m\u001b[0;34m:\u001b[0m\u001b[0;34m\u001b[0m\u001b[0;34m\u001b[0m\u001b[0m\n\u001b[1;32m      3\u001b[0m     \u001b[0mplt\u001b[0m\u001b[0;34m.\u001b[0m\u001b[0mstep\u001b[0m\u001b[0;34m(\u001b[0m\u001b[0mrx_antenna_diameter\u001b[0m\u001b[0;34m,\u001b[0m \u001b[0mdatarate\u001b[0m\u001b[0;34m[\u001b[0m\u001b[0;34m:\u001b[0m\u001b[0;34m,\u001b[0m\u001b[0mi\u001b[0m\u001b[0;34m]\u001b[0m\u001b[0;34m/\u001b[0m\u001b[0;36m1e3\u001b[0m\u001b[0;34m,\u001b[0m \u001b[0mwhere\u001b[0m\u001b[0;34m=\u001b[0m\u001b[0;34m'post'\u001b[0m\u001b[0;34m)\u001b[0m\u001b[0;34m\u001b[0m\u001b[0;34m\u001b[0m\u001b[0m\n\u001b[1;32m      4\u001b[0m \u001b[0;34m\u001b[0m\u001b[0m\n\u001b[1;32m      5\u001b[0m \u001b[0mplt\u001b[0m\u001b[0;34m.\u001b[0m\u001b[0mlegend\u001b[0m\u001b[0;34m(\u001b[0m\u001b[0;34m[\u001b[0m\u001b[0;34m(\u001b[0m\u001b[0;34m'Tx Power = %d dBW'\u001b[0m\u001b[0;34m%\u001b[0m\u001b[0m_\u001b[0m\u001b[0;34m)\u001b[0m \u001b[0;32mfor\u001b[0m \u001b[0m_\u001b[0m \u001b[0;32min\u001b[0m \u001b[0mtx_power\u001b[0m\u001b[0;34m]\u001b[0m\u001b[0;34m)\u001b[0m\u001b[0;34m\u001b[0m\u001b[0;34m\u001b[0m\u001b[0m\n",
      "\u001b[0;31mNameError\u001b[0m: name 'plt' is not defined"
     ]
    }
   ],
   "source": [
    "plt.figure()\n",
    "for i in range(len(tx_power)):\n",
    "    plt.step(rx_antenna_diameter, datarate[:,i]/1e3, where='post')\n",
    "\n",
    "plt.legend([('Tx Power = %d dBW'%_) for _ in tx_power])\n",
    "plt.xlabel('Antenna Diameter (m)')\n",
    "plt.ylabel('Datarate (kbps)')\n",
    "plt.title('Achievable Datarate')\n",
    "plt.grid()\n",
    "plt.show()"
   ]
  },
  {
   "cell_type": "markdown",
   "metadata": {},
   "source": [
    "### Print the system details\n",
    "\n",
    "This breaks down some system parameters for the most recent (and most optimistic) analysis case "
   ]
  },
  {
   "cell_type": "code",
   "execution_count": 5,
   "metadata": {
    "scrolled": false
   },
   "outputs": [
    {
     "ename": "NameError",
     "evalue": "name 'system' is not defined",
     "output_type": "error",
     "traceback": [
      "\u001b[0;31m---------------------------------------------------------------------------\u001b[0m",
      "\u001b[0;31mNameError\u001b[0m                                 Traceback (most recent call last)",
      "\u001b[0;32m<ipython-input-5-28354e11557a>\u001b[0m in \u001b[0;36m<module>\u001b[0;34m\u001b[0m\n\u001b[0;32m----> 1\u001b[0;31m \u001b[0msystem\u001b[0m\u001b[0;34m.\u001b[0m\u001b[0mprint_link_info\u001b[0m\u001b[0;34m(\u001b[0m\u001b[0;34m'downlink'\u001b[0m\u001b[0;34m)\u001b[0m\u001b[0;34m\u001b[0m\u001b[0;34m\u001b[0m\u001b[0m\n\u001b[0m",
      "\u001b[0;31mNameError\u001b[0m: name 'system' is not defined"
     ]
    }
   ],
   "source": [
    "system.print_link_info('downlink')"
   ]
  },
  {
   "cell_type": "markdown",
   "metadata": {},
   "source": [
    "# Analyse the Effect of Symbol Rate\n",
    "\n",
    "Here we will vary the symbol rate and look at how this affects the ability to close the link.\n",
    "\n",
    "We will set the power amplifier output power constant at 13 dBW (20 W)."
   ]
  },
  {
   "cell_type": "code",
   "execution_count": 6,
   "metadata": {},
   "outputs": [
    {
     "ename": "NameError",
     "evalue": "name 'np' is not defined",
     "output_type": "error",
     "traceback": [
      "\u001b[0;31m---------------------------------------------------------------------------\u001b[0m",
      "\u001b[0;31mNameError\u001b[0m                                 Traceback (most recent call last)",
      "\u001b[0;32m<ipython-input-6-ed3e0f2af422>\u001b[0m in \u001b[0;36m<module>\u001b[0;34m\u001b[0m\n\u001b[1;32m      1\u001b[0m \u001b[0;31m# define the parameters to vary\u001b[0m\u001b[0;34m\u001b[0m\u001b[0;34m\u001b[0m\u001b[0;34m\u001b[0m\u001b[0m\n\u001b[0;32m----> 2\u001b[0;31m \u001b[0mrx_antenna_diameter\u001b[0m \u001b[0;34m=\u001b[0m \u001b[0mnp\u001b[0m\u001b[0;34m.\u001b[0m\u001b[0mlinspace\u001b[0m\u001b[0;34m(\u001b[0m\u001b[0;36m0.5\u001b[0m\u001b[0;34m,\u001b[0m \u001b[0;36m6\u001b[0m\u001b[0;34m,\u001b[0m \u001b[0;36m30\u001b[0m\u001b[0;34m)\u001b[0m\u001b[0;34m\u001b[0m\u001b[0;34m\u001b[0m\u001b[0m\n\u001b[0m\u001b[1;32m      3\u001b[0m \u001b[0msymbolrate\u001b[0m \u001b[0;34m=\u001b[0m \u001b[0mnp\u001b[0m\u001b[0;34m.\u001b[0m\u001b[0mlogspace\u001b[0m\u001b[0;34m(\u001b[0m\u001b[0;36m3\u001b[0m\u001b[0;34m,\u001b[0m \u001b[0;36m6\u001b[0m\u001b[0;34m,\u001b[0m \u001b[0;36m10\u001b[0m\u001b[0;34m,\u001b[0m \u001b[0mendpoint\u001b[0m\u001b[0;34m=\u001b[0m\u001b[0;32mTrue\u001b[0m\u001b[0;34m)\u001b[0m\u001b[0;34m\u001b[0m\u001b[0;34m\u001b[0m\u001b[0m\n\u001b[1;32m      4\u001b[0m \u001b[0;34m\u001b[0m\u001b[0m\n\u001b[1;32m      5\u001b[0m \u001b[0;31m# collect these parameters\u001b[0m\u001b[0;34m\u001b[0m\u001b[0;34m\u001b[0m\u001b[0;34m\u001b[0m\u001b[0m\n",
      "\u001b[0;31mNameError\u001b[0m: name 'np' is not defined"
     ]
    }
   ],
   "source": [
    "# define the parameters to vary\n",
    "rx_antenna_diameter = np.linspace(0.5, 6, 30)\n",
    "symbolrate = np.logspace(3, 6, 10, endpoint=True)\n",
    "\n",
    "# collect these parameters\n",
    "rx_power = np.zeros((len(rx_antenna_diameter), len(symbolrate)))\n",
    "link_margin = np.zeros((len(rx_antenna_diameter), len(symbolrate)))\n",
    "datarate = np.zeros((len(rx_antenna_diameter), len(symbolrate)))\n",
    "\n",
    "# set the PA power\n",
    "satellite_configuration['nominal']['tx']['pa']['power'] = 13\n",
    "\n",
    "# loop through each PA power\n",
    "for j in range(len(symbolrate)):\n",
    "\n",
    "    # set the new symbol rate\n",
    "    channel_configuration['nominal']['downlink']['bitrate'] = symbolrate[j]\n",
    "    channel_configuration['nominal']['downlink']['allocation'] = 2.5*symbolrate[j]    \n",
    "    \n",
    "    for i in range(len(rx_antenna_diameter)):\n",
    "        \n",
    "        # set the new Rx antenna diameter\n",
    "        rx_antenna_aperture = np.pi * (rx_antenna_diameter[i]/2)**2\n",
    "        groundstation_configuration['nominal']['rx']['antenna']['aperture'] = rx_antenna_aperture\n",
    "        \n",
    "        # solve the system\n",
    "        system = SystemDefinition.SystemDefinition( satellite_configuration,\n",
    "                                                    groundstation_configuration,\n",
    "                                                    channel_configuration,\n",
    "                                                    warn=False)\n",
    "        # find the performance parameters\n",
    "        rx_power[i][j], link_margin[i][j], datarate[i][j] = system.link_metrics()"
   ]
  },
  {
   "cell_type": "markdown",
   "metadata": {},
   "source": [
    "### Plot the link margin\n",
    "\n",
    "Note that the link margin is to the selected best MODCON available.  However, a negative link margin means the link does not close."
   ]
  },
  {
   "cell_type": "code",
   "execution_count": 7,
   "metadata": {
    "scrolled": false
   },
   "outputs": [
    {
     "ename": "NameError",
     "evalue": "name 'plt' is not defined",
     "output_type": "error",
     "traceback": [
      "\u001b[0;31m---------------------------------------------------------------------------\u001b[0m",
      "\u001b[0;31mNameError\u001b[0m                                 Traceback (most recent call last)",
      "\u001b[0;32m<ipython-input-7-4608c7a4fd7d>\u001b[0m in \u001b[0;36m<module>\u001b[0;34m\u001b[0m\n\u001b[0;32m----> 1\u001b[0;31m \u001b[0mplt\u001b[0m\u001b[0;34m.\u001b[0m\u001b[0mfigure\u001b[0m\u001b[0;34m(\u001b[0m\u001b[0;34m)\u001b[0m\u001b[0;34m\u001b[0m\u001b[0;34m\u001b[0m\u001b[0m\n\u001b[0m\u001b[1;32m      2\u001b[0m \u001b[0;32mfor\u001b[0m \u001b[0mi\u001b[0m \u001b[0;32min\u001b[0m \u001b[0mrange\u001b[0m\u001b[0;34m(\u001b[0m\u001b[0mlen\u001b[0m\u001b[0;34m(\u001b[0m\u001b[0msymbolrate\u001b[0m\u001b[0;34m)\u001b[0m\u001b[0;34m)\u001b[0m\u001b[0;34m:\u001b[0m\u001b[0;34m\u001b[0m\u001b[0;34m\u001b[0m\u001b[0m\n\u001b[1;32m      3\u001b[0m     \u001b[0mplt\u001b[0m\u001b[0;34m.\u001b[0m\u001b[0mplot\u001b[0m\u001b[0;34m(\u001b[0m\u001b[0mrx_antenna_diameter\u001b[0m\u001b[0;34m,\u001b[0m \u001b[0mlink_margin\u001b[0m\u001b[0;34m[\u001b[0m\u001b[0;34m:\u001b[0m\u001b[0;34m,\u001b[0m\u001b[0mi\u001b[0m\u001b[0;34m]\u001b[0m\u001b[0;34m)\u001b[0m\u001b[0;34m\u001b[0m\u001b[0;34m\u001b[0m\u001b[0m\n\u001b[1;32m      4\u001b[0m \u001b[0;34m\u001b[0m\u001b[0m\n\u001b[1;32m      5\u001b[0m \u001b[0;31m# plot broken link\u001b[0m\u001b[0;34m\u001b[0m\u001b[0;34m\u001b[0m\u001b[0;34m\u001b[0m\u001b[0m\n",
      "\u001b[0;31mNameError\u001b[0m: name 'plt' is not defined"
     ]
    }
   ],
   "source": [
    "plt.figure()\n",
    "for i in range(len(symbolrate)):\n",
    "    plt.plot(rx_antenna_diameter, link_margin[:,i])\n",
    "\n",
    "# plot broken link\n",
    "min_value = min(link_margin.flatten())\n",
    "max_value = max(link_margin.flatten())\n",
    "plt.fill_between([-1.2*rx_antenna_diameter[0], 1.2*rx_antenna_diameter[-1]], [0,0], 2*min_value, facecolor=\"red\", alpha=0.1)\n",
    "plt.xlim([rx_antenna_diameter[0], rx_antenna_diameter[-1]])\n",
    "plt.ylim([min_value, max_value*1.2])\n",
    "\n",
    "# label\n",
    "plt.legend([('Symbol Rate = %0.0f ksps'%_) for _ in symbolrate/1e3])\n",
    "plt.xlabel('Antenna Diameter (m)')\n",
    "plt.ylabel('Link Margin (dB)')\n",
    "plt.title('Link Margin')\n",
    "plt.grid()\n",
    "plt.show()"
   ]
  },
  {
   "cell_type": "markdown",
   "metadata": {},
   "source": [
    "### Plot the achievable datarates"
   ]
  },
  {
   "cell_type": "code",
   "execution_count": null,
   "metadata": {},
   "outputs": [],
   "source": [
    "plt.figure()\n",
    "for i in range(len(symbolrate)):\n",
    "    plt.step(rx_antenna_diameter, datarate[:,i]/1e3, where='post')\n",
    "\n",
    "plt.legend([('Symbol Rate = %0.0f ksps'%_) for _ in symbolrate/1e3])\n",
    "plt.xlabel('Antenna Diameter (m)')\n",
    "plt.ylabel('Datarate (kbps)')\n",
    "plt.title('Achievable Datarate')\n",
    "plt.grid()\n",
    "plt.show()"
   ]
  },
  {
   "cell_type": "markdown",
   "metadata": {},
   "source": [
    "# Perform a Monte-Carlo Simulation\n",
    "\n",
    "### Selected Parameters\n",
    "\n",
    "We will select a power amplifier power of 13 dBW (20 W) and a symbol rate of 80 ksps for this simulation.\n",
    "\n",
    "### Monte-Carlo Description\n",
    "\n",
    "A Monte-Carlo simulation calculates the link performance many times each time drawing values from the statistical distribution of each parameter. By repeating this process many times the statistical performance overall can be determined.\n",
    "\n",
    "The distributions for each element are defined in the associated configuration files. For example, the elevation is randomly varied between 5 $^{\\circ}$ and 90 $^{\\circ}$.  The slant range and the propagation losses using the ITU models are re-calculated for the selected elevation.  Each variable, (gain, noise figure, etc.) can have a statistical distribution assigned to it.\n",
    "\n",
    "It could take a while to run the simulation..."
   ]
  },
  {
   "cell_type": "code",
   "execution_count": null,
   "metadata": {},
   "outputs": [],
   "source": [
    "# set the new PA power\n",
    "satellite_configuration['nominal']['tx']['pa']['power'] = 13\n",
    "channel_configuration['nominal']['downlink']['bitrate'] = 40e3      # the lowest datarate is 0.5 bits/symbols\n",
    "channel_configuration['nominal']['downlink']['allocation'] = 100e3 \n",
    "\n",
    "mc_length = 1000\n",
    "rx_antenna_diameter = np.linspace(0.5, 10, 30)\n",
    "\n",
    "rx_power_mc = np.zeros((len(rx_antenna_diameter), 7))\n",
    "link_margin_mc = np.zeros((len(rx_antenna_diameter), 7))\n",
    "datarate_mc = np.zeros((len(rx_antenna_diameter), 7))\n",
    "\n",
    "# loop through each elevation\n",
    "for j in range(len(rx_antenna_diameter)):\n",
    "    \n",
    "    rx_power_mc_run = np.zeros(mc_length)\n",
    "    link_margin_mc_run = np.zeros(mc_length)\n",
    "    datarate_mc_run = np.zeros(mc_length)\n",
    "    \n",
    "    # update the receive antenna diameter\n",
    "    rx_antenna_aperture = np.pi * (rx_antenna_diameter[j]/2)**2\n",
    "    groundstation_configuration['nominal']['rx']['antenna']['aperture'] = rx_antenna_aperture\n",
    "    \n",
    "    # run through the Monte-Carlo iterations\n",
    "    for i in range(mc_length):\n",
    "        system = SystemDefinition.SystemDefinition( satellite_configuration,\n",
    "                                                    groundstation_configuration,\n",
    "                                                    channel_configuration,\n",
    "                                                    monte_carlo=True,\n",
    "                                                    warn=False)\n",
    "        rx_power_mc_run[i], link_margin_mc_run[i], datarate_mc_run[i] = system.link_metrics()\n",
    "\n",
    "    # find the signal statistics\n",
    "    rx_power_mc[j] = system.find_confidence_intervals(rx_power_mc_run)\n",
    "    link_margin_mc[j] = system.find_confidence_intervals(link_margin_mc_run)\n",
    "    datarate_mc[j] = system.find_confidence_intervals(datarate_mc_run)\n",
    "\n",
    "with open('lunar_mc.pkl', 'wb') as f:\n",
    "    pickle.dump([rx_antenna_diameter, rx_power_mc, link_margin_mc, datarate_mc], f)"
   ]
  },
  {
   "cell_type": "code",
   "execution_count": null,
   "metadata": {},
   "outputs": [],
   "source": [
    "with open('lunar_mc.pkl', 'rb') as f:\n",
    "    rx_antenna_diameter, rx_power_mc, link_margin_mc, datarate_mc = pickle.load(f)"
   ]
  },
  {
   "cell_type": "markdown",
   "metadata": {},
   "source": [
    "### Plot the Results\n",
    "\n",
    "We will plot the statistical data.  The median, 25%, 50% and 75% confidence intervals are shown.\n",
    "\n",
    "Note that the distribution is not symmetric, ie. the skewness and kurtosis is non-zero.  Therefore, mean is not an appropriate measure of the peak of the probability density function."
   ]
  },
  {
   "cell_type": "code",
   "execution_count": null,
   "metadata": {},
   "outputs": [],
   "source": [
    "system.plot_confidence_intervals(rx_antenna_diameter, rx_power_mc, \n",
    "                                 ['Received Power over Receive Dish Diameter', \n",
    "                                  'Received Dish Diameter (m)',\n",
    "                                  'Received Power At Receiver (dBW)'])"
   ]
  },
  {
   "cell_type": "code",
   "execution_count": null,
   "metadata": {},
   "outputs": [],
   "source": [
    "system.plot_confidence_intervals(rx_antenna_diameter, link_margin_mc, \n",
    "                                 ['Link Margin over Receive Dish Diameter', \n",
    "                                  'Received Dish Diameter (m)',\n",
    "                                  'Link Margin (dB)'],\n",
    "                                  negative_shade=True)"
   ]
  },
  {
   "cell_type": "code",
   "execution_count": 3,
   "metadata": {},
   "outputs": [
    {
     "ename": "NameError",
     "evalue": "name 'system' is not defined",
     "output_type": "error",
     "traceback": [
      "\u001b[0;31m---------------------------------------------------------------------------\u001b[0m",
      "\u001b[0;31mNameError\u001b[0m                                 Traceback (most recent call last)",
      "\u001b[0;32m<ipython-input-3-912c47bd1a9c>\u001b[0m in \u001b[0;36m<module>\u001b[0;34m\u001b[0m\n\u001b[0;32m----> 1\u001b[0;31m system.plot_confidence_intervals(rx_antenna_diameter, datarate_mc/1e3, \n\u001b[0m\u001b[1;32m      2\u001b[0m                                  ['Achieved Datarate over Receive Dish Diameter', \n\u001b[1;32m      3\u001b[0m                                   \u001b[0;34m'Received Dish Diameter (m)'\u001b[0m\u001b[0;34m,\u001b[0m\u001b[0;34m\u001b[0m\u001b[0;34m\u001b[0m\u001b[0m\n\u001b[1;32m      4\u001b[0m                                   'Achieved Datarate (kbps)'],\n\u001b[1;32m      5\u001b[0m                                   step=True)\n",
      "\u001b[0;31mNameError\u001b[0m: name 'system' is not defined"
     ]
    }
   ],
   "source": [
    "system.plot_confidence_intervals(rx_antenna_diameter, datarate_mc/1e3, \n",
    "                                 ['Achieved Datarate over Receive Dish Diameter', \n",
    "                                  'Received Dish Diameter (m)',\n",
    "                                  'Achieved Datarate (kbps)'],\n",
    "                                  step=True)"
   ]
  },
  {
   "cell_type": "code",
   "execution_count": null,
   "metadata": {},
   "outputs": [],
   "source": []
  }
 ],
 "metadata": {
  "kernelspec": {
   "display_name": "Python 3",
   "language": "python",
   "name": "python3"
  },
  "language_info": {
   "codemirror_mode": {
    "name": "ipython",
    "version": 3
   },
   "file_extension": ".py",
   "mimetype": "text/x-python",
   "name": "python",
   "nbconvert_exporter": "python",
   "pygments_lexer": "ipython3",
   "version": "3.7.7"
  }
 },
 "nbformat": 4,
 "nbformat_minor": 4
}
